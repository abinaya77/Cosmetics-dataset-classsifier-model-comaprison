{
  "nbformat": 4,
  "nbformat_minor": 0,
  "metadata": {
    "colab": {
      "provenance": []
    },
    "kernelspec": {
      "name": "python3",
      "display_name": "Python 3"
    },
    "language_info": {
      "name": "python"
    }
  },
  "cells": [
    {
      "cell_type": "code",
      "source": [
        "import numpy as np # linear algebra\n",
        "import pandas as pd # data processing, CSV file I/O (e.g. pd.read_csv)\n",
        "import seaborn as sns\n",
        "import matplotlib.pyplot as plt\n",
        "\n",
        "#here os.walk--- scanning doc either from bottom up or topdown etc search for syntax in google to knoe better\n",
        "#import os\n",
        "#for dirname, _, filenames in os.walk('/kaggle/input'):\n",
        "#    for filename in filenames:\n",
        "#        print(os.path.join(dirname, filename))"
      ],
      "metadata": {
        "id": "pUT7FAWpbe7O"
      },
      "execution_count": null,
      "outputs": []
    },
    {
      "cell_type": "code",
      "source": [
        "infile = \"/hair_cosmetics.zip\"\n",
        "df = pd.read_csv(infile)\n",
        "df"
      ],
      "metadata": {
        "colab": {
          "base_uri": "https://localhost:8080/",
          "height": 424
        },
        "id": "Ai6Yv3DL2awL",
        "outputId": "a2507732-65c5-4351-a886-438364785d3b"
      },
      "execution_count": null,
      "outputs": [
        {
          "output_type": "execute_result",
          "data": {
            "text/plain": [
              "                                           ingredients PEH group\n",
              "0    Aqua, Cetearyl Alcohol, Behentrimonium Chlorid...       PEH\n",
              "1    Aqua, Cetearyl Alcohol, Behentrimonium Chlorid...       PEH\n",
              "2    Aqua, Glycerin, Cetearyl Alcohol, Isopropyl Pa...       PEH\n",
              "3    Aqua, Decyl Glucoside, Glycerin, Babassu Oil P...       PEH\n",
              "4    Aqua, Decyl Glucoside, Glycerin, Cetearyl Alco...        EH\n",
              "..                                                 ...       ...\n",
              "149  Glycerin, Water, Cyclopentasiloxane, Dimethico...        PH\n",
              "150  Aqua, Cetearyl Alcohol, Caprylic/Capric Trigly...        PH\n",
              "151  Aqua, Cocos Nucifera Oil, Glyceryl Stearate, G...         P\n",
              "152  Aqua, Cetearyl Alcohol, Cetyl Alcohol, Behentr...         P\n",
              "153  Aqua, Cetearyl Alcohol, Behentrimonium Chlorid...         P\n",
              "\n",
              "[154 rows x 2 columns]"
            ],
            "text/html": [
              "\n",
              "  <div id=\"df-6ed0ce69-bb15-44e1-ae4d-52a5684c6889\">\n",
              "    <div class=\"colab-df-container\">\n",
              "      <div>\n",
              "<style scoped>\n",
              "    .dataframe tbody tr th:only-of-type {\n",
              "        vertical-align: middle;\n",
              "    }\n",
              "\n",
              "    .dataframe tbody tr th {\n",
              "        vertical-align: top;\n",
              "    }\n",
              "\n",
              "    .dataframe thead th {\n",
              "        text-align: right;\n",
              "    }\n",
              "</style>\n",
              "<table border=\"1\" class=\"dataframe\">\n",
              "  <thead>\n",
              "    <tr style=\"text-align: right;\">\n",
              "      <th></th>\n",
              "      <th>ingredients</th>\n",
              "      <th>PEH group</th>\n",
              "    </tr>\n",
              "  </thead>\n",
              "  <tbody>\n",
              "    <tr>\n",
              "      <th>0</th>\n",
              "      <td>Aqua, Cetearyl Alcohol, Behentrimonium Chlorid...</td>\n",
              "      <td>PEH</td>\n",
              "    </tr>\n",
              "    <tr>\n",
              "      <th>1</th>\n",
              "      <td>Aqua, Cetearyl Alcohol, Behentrimonium Chlorid...</td>\n",
              "      <td>PEH</td>\n",
              "    </tr>\n",
              "    <tr>\n",
              "      <th>2</th>\n",
              "      <td>Aqua, Glycerin, Cetearyl Alcohol, Isopropyl Pa...</td>\n",
              "      <td>PEH</td>\n",
              "    </tr>\n",
              "    <tr>\n",
              "      <th>3</th>\n",
              "      <td>Aqua, Decyl Glucoside, Glycerin, Babassu Oil P...</td>\n",
              "      <td>PEH</td>\n",
              "    </tr>\n",
              "    <tr>\n",
              "      <th>4</th>\n",
              "      <td>Aqua, Decyl Glucoside, Glycerin, Cetearyl Alco...</td>\n",
              "      <td>EH</td>\n",
              "    </tr>\n",
              "    <tr>\n",
              "      <th>...</th>\n",
              "      <td>...</td>\n",
              "      <td>...</td>\n",
              "    </tr>\n",
              "    <tr>\n",
              "      <th>149</th>\n",
              "      <td>Glycerin, Water, Cyclopentasiloxane, Dimethico...</td>\n",
              "      <td>PH</td>\n",
              "    </tr>\n",
              "    <tr>\n",
              "      <th>150</th>\n",
              "      <td>Aqua, Cetearyl Alcohol, Caprylic/Capric Trigly...</td>\n",
              "      <td>PH</td>\n",
              "    </tr>\n",
              "    <tr>\n",
              "      <th>151</th>\n",
              "      <td>Aqua, Cocos Nucifera Oil, Glyceryl Stearate, G...</td>\n",
              "      <td>P</td>\n",
              "    </tr>\n",
              "    <tr>\n",
              "      <th>152</th>\n",
              "      <td>Aqua, Cetearyl Alcohol, Cetyl Alcohol, Behentr...</td>\n",
              "      <td>P</td>\n",
              "    </tr>\n",
              "    <tr>\n",
              "      <th>153</th>\n",
              "      <td>Aqua, Cetearyl Alcohol, Behentrimonium Chlorid...</td>\n",
              "      <td>P</td>\n",
              "    </tr>\n",
              "  </tbody>\n",
              "</table>\n",
              "<p>154 rows × 2 columns</p>\n",
              "</div>\n",
              "      <button class=\"colab-df-convert\" onclick=\"convertToInteractive('df-6ed0ce69-bb15-44e1-ae4d-52a5684c6889')\"\n",
              "              title=\"Convert this dataframe to an interactive table.\"\n",
              "              style=\"display:none;\">\n",
              "        \n",
              "  <svg xmlns=\"http://www.w3.org/2000/svg\" height=\"24px\"viewBox=\"0 0 24 24\"\n",
              "       width=\"24px\">\n",
              "    <path d=\"M0 0h24v24H0V0z\" fill=\"none\"/>\n",
              "    <path d=\"M18.56 5.44l.94 2.06.94-2.06 2.06-.94-2.06-.94-.94-2.06-.94 2.06-2.06.94zm-11 1L8.5 8.5l.94-2.06 2.06-.94-2.06-.94L8.5 2.5l-.94 2.06-2.06.94zm10 10l.94 2.06.94-2.06 2.06-.94-2.06-.94-.94-2.06-.94 2.06-2.06.94z\"/><path d=\"M17.41 7.96l-1.37-1.37c-.4-.4-.92-.59-1.43-.59-.52 0-1.04.2-1.43.59L10.3 9.45l-7.72 7.72c-.78.78-.78 2.05 0 2.83L4 21.41c.39.39.9.59 1.41.59.51 0 1.02-.2 1.41-.59l7.78-7.78 2.81-2.81c.8-.78.8-2.07 0-2.86zM5.41 20L4 18.59l7.72-7.72 1.47 1.35L5.41 20z\"/>\n",
              "  </svg>\n",
              "      </button>\n",
              "      \n",
              "  <style>\n",
              "    .colab-df-container {\n",
              "      display:flex;\n",
              "      flex-wrap:wrap;\n",
              "      gap: 12px;\n",
              "    }\n",
              "\n",
              "    .colab-df-convert {\n",
              "      background-color: #E8F0FE;\n",
              "      border: none;\n",
              "      border-radius: 50%;\n",
              "      cursor: pointer;\n",
              "      display: none;\n",
              "      fill: #1967D2;\n",
              "      height: 32px;\n",
              "      padding: 0 0 0 0;\n",
              "      width: 32px;\n",
              "    }\n",
              "\n",
              "    .colab-df-convert:hover {\n",
              "      background-color: #E2EBFA;\n",
              "      box-shadow: 0px 1px 2px rgba(60, 64, 67, 0.3), 0px 1px 3px 1px rgba(60, 64, 67, 0.15);\n",
              "      fill: #174EA6;\n",
              "    }\n",
              "\n",
              "    [theme=dark] .colab-df-convert {\n",
              "      background-color: #3B4455;\n",
              "      fill: #D2E3FC;\n",
              "    }\n",
              "\n",
              "    [theme=dark] .colab-df-convert:hover {\n",
              "      background-color: #434B5C;\n",
              "      box-shadow: 0px 1px 3px 1px rgba(0, 0, 0, 0.15);\n",
              "      filter: drop-shadow(0px 1px 2px rgba(0, 0, 0, 0.3));\n",
              "      fill: #FFFFFF;\n",
              "    }\n",
              "  </style>\n",
              "\n",
              "      <script>\n",
              "        const buttonEl =\n",
              "          document.querySelector('#df-6ed0ce69-bb15-44e1-ae4d-52a5684c6889 button.colab-df-convert');\n",
              "        buttonEl.style.display =\n",
              "          google.colab.kernel.accessAllowed ? 'block' : 'none';\n",
              "\n",
              "        async function convertToInteractive(key) {\n",
              "          const element = document.querySelector('#df-6ed0ce69-bb15-44e1-ae4d-52a5684c6889');\n",
              "          const dataTable =\n",
              "            await google.colab.kernel.invokeFunction('convertToInteractive',\n",
              "                                                     [key], {});\n",
              "          if (!dataTable) return;\n",
              "\n",
              "          const docLinkHtml = 'Like what you see? Visit the ' +\n",
              "            '<a target=\"_blank\" href=https://colab.research.google.com/notebooks/data_table.ipynb>data table notebook</a>'\n",
              "            + ' to learn more about interactive tables.';\n",
              "          element.innerHTML = '';\n",
              "          dataTable['output_type'] = 'display_data';\n",
              "          await google.colab.output.renderOutput(dataTable, element);\n",
              "          const docLink = document.createElement('div');\n",
              "          docLink.innerHTML = docLinkHtml;\n",
              "          element.appendChild(docLink);\n",
              "        }\n",
              "      </script>\n",
              "    </div>\n",
              "  </div>\n",
              "  "
            ]
          },
          "metadata": {},
          "execution_count": 43
        }
      ]
    },
    {
      "cell_type": "code",
      "source": [
        "\n",
        "\n",
        "#Unifying ingredients (removing spaces between words)\n",
        "\n",
        "for i in range(len(df[\"ingredients\"]) - 1):\n",
        "    df[\"ingredients\"][i] = df[\"ingredients\"][i].replace(\" \",\"\")\n",
        "\n"
      ],
      "metadata": {
        "id": "2wF51f2b2hsc"
      },
      "execution_count": null,
      "outputs": []
    },
    {
      "cell_type": "code",
      "source": [
        "df.head()"
      ],
      "metadata": {
        "colab": {
          "base_uri": "https://localhost:8080/",
          "height": 206
        },
        "id": "9M_bkBBy6gDt",
        "outputId": "8c225233-9d1e-4282-f3d6-2e9ed7c2fdad"
      },
      "execution_count": null,
      "outputs": [
        {
          "output_type": "execute_result",
          "data": {
            "text/plain": [
              "                                         ingredients PEH group\n",
              "0  Aqua,CetearylAlcohol,BehentrimoniumChloride,Pr...       PEH\n",
              "1  Aqua,CetearylAlcohol,BehentrimoniumChloride,Co...       PEH\n",
              "2  Aqua,Glycerin,CetearylAlcohol,IsopropylPalmita...       PEH\n",
              "3  Aqua,DecylGlucoside,Glycerin,BabassuOilPolygly...       PEH\n",
              "4  Aqua,DecylGlucoside,Glycerin,CetearylAlcohol,B...        EH"
            ],
            "text/html": [
              "\n",
              "  <div id=\"df-996d96c7-229f-4f37-b6ea-f0b54e53e4af\">\n",
              "    <div class=\"colab-df-container\">\n",
              "      <div>\n",
              "<style scoped>\n",
              "    .dataframe tbody tr th:only-of-type {\n",
              "        vertical-align: middle;\n",
              "    }\n",
              "\n",
              "    .dataframe tbody tr th {\n",
              "        vertical-align: top;\n",
              "    }\n",
              "\n",
              "    .dataframe thead th {\n",
              "        text-align: right;\n",
              "    }\n",
              "</style>\n",
              "<table border=\"1\" class=\"dataframe\">\n",
              "  <thead>\n",
              "    <tr style=\"text-align: right;\">\n",
              "      <th></th>\n",
              "      <th>ingredients</th>\n",
              "      <th>PEH group</th>\n",
              "    </tr>\n",
              "  </thead>\n",
              "  <tbody>\n",
              "    <tr>\n",
              "      <th>0</th>\n",
              "      <td>Aqua,CetearylAlcohol,BehentrimoniumChloride,Pr...</td>\n",
              "      <td>PEH</td>\n",
              "    </tr>\n",
              "    <tr>\n",
              "      <th>1</th>\n",
              "      <td>Aqua,CetearylAlcohol,BehentrimoniumChloride,Co...</td>\n",
              "      <td>PEH</td>\n",
              "    </tr>\n",
              "    <tr>\n",
              "      <th>2</th>\n",
              "      <td>Aqua,Glycerin,CetearylAlcohol,IsopropylPalmita...</td>\n",
              "      <td>PEH</td>\n",
              "    </tr>\n",
              "    <tr>\n",
              "      <th>3</th>\n",
              "      <td>Aqua,DecylGlucoside,Glycerin,BabassuOilPolygly...</td>\n",
              "      <td>PEH</td>\n",
              "    </tr>\n",
              "    <tr>\n",
              "      <th>4</th>\n",
              "      <td>Aqua,DecylGlucoside,Glycerin,CetearylAlcohol,B...</td>\n",
              "      <td>EH</td>\n",
              "    </tr>\n",
              "  </tbody>\n",
              "</table>\n",
              "</div>\n",
              "      <button class=\"colab-df-convert\" onclick=\"convertToInteractive('df-996d96c7-229f-4f37-b6ea-f0b54e53e4af')\"\n",
              "              title=\"Convert this dataframe to an interactive table.\"\n",
              "              style=\"display:none;\">\n",
              "        \n",
              "  <svg xmlns=\"http://www.w3.org/2000/svg\" height=\"24px\"viewBox=\"0 0 24 24\"\n",
              "       width=\"24px\">\n",
              "    <path d=\"M0 0h24v24H0V0z\" fill=\"none\"/>\n",
              "    <path d=\"M18.56 5.44l.94 2.06.94-2.06 2.06-.94-2.06-.94-.94-2.06-.94 2.06-2.06.94zm-11 1L8.5 8.5l.94-2.06 2.06-.94-2.06-.94L8.5 2.5l-.94 2.06-2.06.94zm10 10l.94 2.06.94-2.06 2.06-.94-2.06-.94-.94-2.06-.94 2.06-2.06.94z\"/><path d=\"M17.41 7.96l-1.37-1.37c-.4-.4-.92-.59-1.43-.59-.52 0-1.04.2-1.43.59L10.3 9.45l-7.72 7.72c-.78.78-.78 2.05 0 2.83L4 21.41c.39.39.9.59 1.41.59.51 0 1.02-.2 1.41-.59l7.78-7.78 2.81-2.81c.8-.78.8-2.07 0-2.86zM5.41 20L4 18.59l7.72-7.72 1.47 1.35L5.41 20z\"/>\n",
              "  </svg>\n",
              "      </button>\n",
              "      \n",
              "  <style>\n",
              "    .colab-df-container {\n",
              "      display:flex;\n",
              "      flex-wrap:wrap;\n",
              "      gap: 12px;\n",
              "    }\n",
              "\n",
              "    .colab-df-convert {\n",
              "      background-color: #E8F0FE;\n",
              "      border: none;\n",
              "      border-radius: 50%;\n",
              "      cursor: pointer;\n",
              "      display: none;\n",
              "      fill: #1967D2;\n",
              "      height: 32px;\n",
              "      padding: 0 0 0 0;\n",
              "      width: 32px;\n",
              "    }\n",
              "\n",
              "    .colab-df-convert:hover {\n",
              "      background-color: #E2EBFA;\n",
              "      box-shadow: 0px 1px 2px rgba(60, 64, 67, 0.3), 0px 1px 3px 1px rgba(60, 64, 67, 0.15);\n",
              "      fill: #174EA6;\n",
              "    }\n",
              "\n",
              "    [theme=dark] .colab-df-convert {\n",
              "      background-color: #3B4455;\n",
              "      fill: #D2E3FC;\n",
              "    }\n",
              "\n",
              "    [theme=dark] .colab-df-convert:hover {\n",
              "      background-color: #434B5C;\n",
              "      box-shadow: 0px 1px 3px 1px rgba(0, 0, 0, 0.15);\n",
              "      filter: drop-shadow(0px 1px 2px rgba(0, 0, 0, 0.3));\n",
              "      fill: #FFFFFF;\n",
              "    }\n",
              "  </style>\n",
              "\n",
              "      <script>\n",
              "        const buttonEl =\n",
              "          document.querySelector('#df-996d96c7-229f-4f37-b6ea-f0b54e53e4af button.colab-df-convert');\n",
              "        buttonEl.style.display =\n",
              "          google.colab.kernel.accessAllowed ? 'block' : 'none';\n",
              "\n",
              "        async function convertToInteractive(key) {\n",
              "          const element = document.querySelector('#df-996d96c7-229f-4f37-b6ea-f0b54e53e4af');\n",
              "          const dataTable =\n",
              "            await google.colab.kernel.invokeFunction('convertToInteractive',\n",
              "                                                     [key], {});\n",
              "          if (!dataTable) return;\n",
              "\n",
              "          const docLinkHtml = 'Like what you see? Visit the ' +\n",
              "            '<a target=\"_blank\" href=https://colab.research.google.com/notebooks/data_table.ipynb>data table notebook</a>'\n",
              "            + ' to learn more about interactive tables.';\n",
              "          element.innerHTML = '';\n",
              "          dataTable['output_type'] = 'display_data';\n",
              "          await google.colab.output.renderOutput(dataTable, element);\n",
              "          const docLink = document.createElement('div');\n",
              "          docLink.innerHTML = docLinkHtml;\n",
              "          element.appendChild(docLink);\n",
              "        }\n",
              "      </script>\n",
              "    </div>\n",
              "  </div>\n",
              "  "
            ]
          },
          "metadata": {},
          "execution_count": 45
        }
      ]
    },
    {
      "cell_type": "code",
      "source": [
        "#vectorizing here\n",
        "from sklearn.feature_extraction.text import TfidfVectorizer\n",
        "\n",
        "\n",
        "vectorizer = TfidfVectorizer()\n",
        "df_vectors = vectorizer.fit_transform(df[\"ingredients\"])"
      ],
      "metadata": {
        "id": "hm-ML3C06hsp"
      },
      "execution_count": null,
      "outputs": []
    },
    {
      "cell_type": "code",
      "source": [
        "#fitting the vector using standard scalar\n",
        "\n",
        "#StandardScaler : It transforms the data in such a manner that it has mean as 0 and standard deviation as 1.\n",
        "# In short, it standardizes the data. \n",
        "#Standardization is useful for data which has negative values.\n",
        "from sklearn.preprocessing import StandardScaler \n",
        "sc = StandardScaler(with_mean = False)\n",
        "df_vectors = sc.fit_transform(df_vectors)"
      ],
      "metadata": {
        "id": "PE7GtmeZ6upj"
      },
      "execution_count": null,
      "outputs": []
    },
    {
      "cell_type": "code",
      "source": [
        "#Encoding PEH groups from categorical data to numerical.\n",
        "\n",
        "from sklearn import preprocessing\n",
        "le = preprocessing.LabelEncoder()\n",
        "df[\"PEH group\"] = le.fit_transform(df[\"PEH group\"])\n",
        "\n"
      ],
      "metadata": {
        "id": "G0JJvfJh6_wr"
      },
      "execution_count": null,
      "outputs": []
    },
    {
      "cell_type": "code",
      "source": [
        "df.head()"
      ],
      "metadata": {
        "colab": {
          "base_uri": "https://localhost:8080/",
          "height": 206
        },
        "id": "pHXSkYe57hbl",
        "outputId": "63859db7-359e-4466-fc5d-1b27da1635e8"
      },
      "execution_count": null,
      "outputs": [
        {
          "output_type": "execute_result",
          "data": {
            "text/plain": [
              "                                         ingredients  PEH group\n",
              "0  Aqua,CetearylAlcohol,BehentrimoniumChloride,Pr...          5\n",
              "1  Aqua,CetearylAlcohol,BehentrimoniumChloride,Co...          5\n",
              "2  Aqua,Glycerin,CetearylAlcohol,IsopropylPalmita...          5\n",
              "3  Aqua,DecylGlucoside,Glycerin,BabassuOilPolygly...          5\n",
              "4  Aqua,DecylGlucoside,Glycerin,CetearylAlcohol,B...          1"
            ],
            "text/html": [
              "\n",
              "  <div id=\"df-b77ffe0f-a4b6-44f5-ac10-0ee20ddf74ef\">\n",
              "    <div class=\"colab-df-container\">\n",
              "      <div>\n",
              "<style scoped>\n",
              "    .dataframe tbody tr th:only-of-type {\n",
              "        vertical-align: middle;\n",
              "    }\n",
              "\n",
              "    .dataframe tbody tr th {\n",
              "        vertical-align: top;\n",
              "    }\n",
              "\n",
              "    .dataframe thead th {\n",
              "        text-align: right;\n",
              "    }\n",
              "</style>\n",
              "<table border=\"1\" class=\"dataframe\">\n",
              "  <thead>\n",
              "    <tr style=\"text-align: right;\">\n",
              "      <th></th>\n",
              "      <th>ingredients</th>\n",
              "      <th>PEH group</th>\n",
              "    </tr>\n",
              "  </thead>\n",
              "  <tbody>\n",
              "    <tr>\n",
              "      <th>0</th>\n",
              "      <td>Aqua,CetearylAlcohol,BehentrimoniumChloride,Pr...</td>\n",
              "      <td>5</td>\n",
              "    </tr>\n",
              "    <tr>\n",
              "      <th>1</th>\n",
              "      <td>Aqua,CetearylAlcohol,BehentrimoniumChloride,Co...</td>\n",
              "      <td>5</td>\n",
              "    </tr>\n",
              "    <tr>\n",
              "      <th>2</th>\n",
              "      <td>Aqua,Glycerin,CetearylAlcohol,IsopropylPalmita...</td>\n",
              "      <td>5</td>\n",
              "    </tr>\n",
              "    <tr>\n",
              "      <th>3</th>\n",
              "      <td>Aqua,DecylGlucoside,Glycerin,BabassuOilPolygly...</td>\n",
              "      <td>5</td>\n",
              "    </tr>\n",
              "    <tr>\n",
              "      <th>4</th>\n",
              "      <td>Aqua,DecylGlucoside,Glycerin,CetearylAlcohol,B...</td>\n",
              "      <td>1</td>\n",
              "    </tr>\n",
              "  </tbody>\n",
              "</table>\n",
              "</div>\n",
              "      <button class=\"colab-df-convert\" onclick=\"convertToInteractive('df-b77ffe0f-a4b6-44f5-ac10-0ee20ddf74ef')\"\n",
              "              title=\"Convert this dataframe to an interactive table.\"\n",
              "              style=\"display:none;\">\n",
              "        \n",
              "  <svg xmlns=\"http://www.w3.org/2000/svg\" height=\"24px\"viewBox=\"0 0 24 24\"\n",
              "       width=\"24px\">\n",
              "    <path d=\"M0 0h24v24H0V0z\" fill=\"none\"/>\n",
              "    <path d=\"M18.56 5.44l.94 2.06.94-2.06 2.06-.94-2.06-.94-.94-2.06-.94 2.06-2.06.94zm-11 1L8.5 8.5l.94-2.06 2.06-.94-2.06-.94L8.5 2.5l-.94 2.06-2.06.94zm10 10l.94 2.06.94-2.06 2.06-.94-2.06-.94-.94-2.06-.94 2.06-2.06.94z\"/><path d=\"M17.41 7.96l-1.37-1.37c-.4-.4-.92-.59-1.43-.59-.52 0-1.04.2-1.43.59L10.3 9.45l-7.72 7.72c-.78.78-.78 2.05 0 2.83L4 21.41c.39.39.9.59 1.41.59.51 0 1.02-.2 1.41-.59l7.78-7.78 2.81-2.81c.8-.78.8-2.07 0-2.86zM5.41 20L4 18.59l7.72-7.72 1.47 1.35L5.41 20z\"/>\n",
              "  </svg>\n",
              "      </button>\n",
              "      \n",
              "  <style>\n",
              "    .colab-df-container {\n",
              "      display:flex;\n",
              "      flex-wrap:wrap;\n",
              "      gap: 12px;\n",
              "    }\n",
              "\n",
              "    .colab-df-convert {\n",
              "      background-color: #E8F0FE;\n",
              "      border: none;\n",
              "      border-radius: 50%;\n",
              "      cursor: pointer;\n",
              "      display: none;\n",
              "      fill: #1967D2;\n",
              "      height: 32px;\n",
              "      padding: 0 0 0 0;\n",
              "      width: 32px;\n",
              "    }\n",
              "\n",
              "    .colab-df-convert:hover {\n",
              "      background-color: #E2EBFA;\n",
              "      box-shadow: 0px 1px 2px rgba(60, 64, 67, 0.3), 0px 1px 3px 1px rgba(60, 64, 67, 0.15);\n",
              "      fill: #174EA6;\n",
              "    }\n",
              "\n",
              "    [theme=dark] .colab-df-convert {\n",
              "      background-color: #3B4455;\n",
              "      fill: #D2E3FC;\n",
              "    }\n",
              "\n",
              "    [theme=dark] .colab-df-convert:hover {\n",
              "      background-color: #434B5C;\n",
              "      box-shadow: 0px 1px 3px 1px rgba(0, 0, 0, 0.15);\n",
              "      filter: drop-shadow(0px 1px 2px rgba(0, 0, 0, 0.3));\n",
              "      fill: #FFFFFF;\n",
              "    }\n",
              "  </style>\n",
              "\n",
              "      <script>\n",
              "        const buttonEl =\n",
              "          document.querySelector('#df-b77ffe0f-a4b6-44f5-ac10-0ee20ddf74ef button.colab-df-convert');\n",
              "        buttonEl.style.display =\n",
              "          google.colab.kernel.accessAllowed ? 'block' : 'none';\n",
              "\n",
              "        async function convertToInteractive(key) {\n",
              "          const element = document.querySelector('#df-b77ffe0f-a4b6-44f5-ac10-0ee20ddf74ef');\n",
              "          const dataTable =\n",
              "            await google.colab.kernel.invokeFunction('convertToInteractive',\n",
              "                                                     [key], {});\n",
              "          if (!dataTable) return;\n",
              "\n",
              "          const docLinkHtml = 'Like what you see? Visit the ' +\n",
              "            '<a target=\"_blank\" href=https://colab.research.google.com/notebooks/data_table.ipynb>data table notebook</a>'\n",
              "            + ' to learn more about interactive tables.';\n",
              "          element.innerHTML = '';\n",
              "          dataTable['output_type'] = 'display_data';\n",
              "          await google.colab.output.renderOutput(dataTable, element);\n",
              "          const docLink = document.createElement('div');\n",
              "          docLink.innerHTML = docLinkHtml;\n",
              "          element.appendChild(docLink);\n",
              "        }\n",
              "      </script>\n",
              "    </div>\n",
              "  </div>\n",
              "  "
            ]
          },
          "metadata": {},
          "execution_count": 49
        }
      ]
    },
    {
      "cell_type": "code",
      "source": [
        "#MACHINE LEARNING"
      ],
      "metadata": {
        "id": "fUcwUT687zSO"
      },
      "execution_count": null,
      "outputs": []
    },
    {
      "cell_type": "code",
      "source": [
        "#STEP -1 SPLITTING \n",
        "from sklearn.metrics import mean_squared_error\n",
        "from sklearn.metrics import accuracy_score\n",
        "\n"
      ],
      "metadata": {
        "id": "c2j01U6M77-P"
      },
      "execution_count": null,
      "outputs": []
    },
    {
      "cell_type": "code",
      "source": [
        "from sklearn.model_selection import train_test_split\n",
        "\n",
        "X_train, X_test, y_train, y_test = train_test_split(df_vectors, df[\"PEH group\"], shuffle = True)"
      ],
      "metadata": {
        "id": "I9_oPuZe8iWl"
      },
      "execution_count": null,
      "outputs": []
    },
    {
      "cell_type": "code",
      "source": [
        "#APPROACH-1- RIDEGE REGRESSION \n",
        "#Ridge regression is used to quantify the overfitting of the data through measuring the magnitude of coefficients. To fix the problem of overfitting, we need to balance two things: 1. How well function/model fits data. 2. Magnitude of coefficients. \n",
        "#So, Total Cost Function = Measure of fit of model + Measure of magnitude of coefficient Here,"
      ],
      "metadata": {
        "id": "P4lZCdVJ8Ne0"
      },
      "execution_count": null,
      "outputs": []
    },
    {
      "cell_type": "code",
      "source": [
        "from sklearn import linear_model\n",
        "\n",
        "model = linear_model.RidgeClassifier()\n",
        "model.fit(X_train, y_train)"
      ],
      "metadata": {
        "colab": {
          "base_uri": "https://localhost:8080/"
        },
        "id": "H1V7aoQv83nO",
        "outputId": "79b8d0c0-f818-4282-f36d-40580abc3c83"
      },
      "execution_count": null,
      "outputs": [
        {
          "output_type": "execute_result",
          "data": {
            "text/plain": [
              "RidgeClassifier()"
            ]
          },
          "metadata": {},
          "execution_count": 54
        }
      ]
    },
    {
      "cell_type": "code",
      "source": [
        "\n",
        "y_test_pred = model.predict(X_test)"
      ],
      "metadata": {
        "id": "zhBdhv_X9Q3m"
      },
      "execution_count": null,
      "outputs": []
    },
    {
      "cell_type": "code",
      "source": [
        "from sklearn.metrics import mean_squared_error\n",
        "from sklearn.metrics import accuracy_score\n",
        "\n",
        "mse_regression = mean_squared_error(y_test, y_test_pred)\n",
        "accuracy_regression = accuracy_score(y_test, y_test_pred)"
      ],
      "metadata": {
        "id": "4tklT-Zm9ZD_"
      },
      "execution_count": null,
      "outputs": []
    },
    {
      "cell_type": "code",
      "source": [
        "#Approach 2. The k-Nearest Neighbors Regressor"
      ],
      "metadata": {
        "id": "AAbhfhlQ9dKV"
      },
      "execution_count": null,
      "outputs": []
    },
    {
      "cell_type": "code",
      "source": [
        "from sklearn.neighbors import KNeighborsRegressor\n",
        "\n",
        "knn_reg_model = KNeighborsRegressor(n_neighbors = 5)\n",
        "knn_reg_model.fit(X_train, y_train)\n",
        "\n"
      ],
      "metadata": {
        "colab": {
          "base_uri": "https://localhost:8080/"
        },
        "id": "lAoQZFAt9sg3",
        "outputId": "a09e281f-f8c8-416f-e52d-896f4c001b67"
      },
      "execution_count": null,
      "outputs": [
        {
          "output_type": "execute_result",
          "data": {
            "text/plain": [
              "KNeighborsRegressor()"
            ]
          },
          "metadata": {},
          "execution_count": 58
        }
      ]
    },
    {
      "cell_type": "code",
      "source": [
        "\n",
        "\n",
        "y_knn_reg_pred = knn_reg_model.predict(X_test)\n",
        "\n",
        "mse_knn_reg = mean_squared_error(y_test, y_knn_reg_pred)\n",
        "\n",
        "\n"
      ],
      "metadata": {
        "id": "86NRn-6j9wzN"
      },
      "execution_count": null,
      "outputs": []
    },
    {
      "cell_type": "code",
      "source": [
        "#Approach 3. The k-Nearest Neighbors Classifier"
      ],
      "metadata": {
        "id": "hTd_MQWv940P"
      },
      "execution_count": null,
      "outputs": []
    },
    {
      "cell_type": "code",
      "source": [
        "from sklearn.neighbors import KNeighborsClassifier\n",
        "\n",
        "knn_model = KNeighborsClassifier()\n",
        "knn_model.fit(X_train, y_train)"
      ],
      "metadata": {
        "colab": {
          "base_uri": "https://localhost:8080/"
        },
        "id": "4kK1IjQ9-Esk",
        "outputId": "5de7f9a3-d1c8-46c7-bfba-5e2253da9465"
      },
      "execution_count": null,
      "outputs": [
        {
          "output_type": "execute_result",
          "data": {
            "text/plain": [
              "KNeighborsClassifier()"
            ]
          },
          "metadata": {},
          "execution_count": 63
        }
      ]
    },
    {
      "cell_type": "code",
      "source": [
        "\n",
        "y_knn_pred = knn_model.predict(X_test)\n",
        "\n",
        "mse_knn = mean_squared_error(y_test, y_knn_pred)\n",
        "accuracy_knn = accuracy_score(y_test, y_knn_pred)\n",
        "\n"
      ],
      "metadata": {
        "id": "aq6iBjVh-IJ2"
      },
      "execution_count": null,
      "outputs": []
    },
    {
      "cell_type": "code",
      "source": [
        "#Approach 4. Random Forest Classifier"
      ],
      "metadata": {
        "id": "xO7RhTza-Oxu"
      },
      "execution_count": null,
      "outputs": []
    },
    {
      "cell_type": "code",
      "source": [
        "from sklearn.ensemble import RandomForestClassifier\n",
        "\n",
        "rf_model = RandomForestClassifier(max_depth=2, random_state=0)\n",
        "rf_model.fit(X_train, y_train)"
      ],
      "metadata": {
        "colab": {
          "base_uri": "https://localhost:8080/"
        },
        "id": "FtZFvxo5-TJn",
        "outputId": "78a6ddc9-d60d-4a49-d6ab-7feda3c1e425"
      },
      "execution_count": null,
      "outputs": [
        {
          "output_type": "execute_result",
          "data": {
            "text/plain": [
              "RandomForestClassifier(max_depth=2, random_state=0)"
            ]
          },
          "metadata": {},
          "execution_count": 66
        }
      ]
    },
    {
      "cell_type": "code",
      "source": [
        "y_rf_pred = rf_model.predict(X_test)\n",
        "\n",
        "mse_rf = mean_squared_error(y_test, y_rf_pred)\n",
        "accuracy_rf = accuracy_score(y_test, y_rf_pred)\n",
        "\n"
      ],
      "metadata": {
        "id": "Rbj1D5Ev-Vx3"
      },
      "execution_count": null,
      "outputs": []
    },
    {
      "cell_type": "code",
      "source": [
        "#Approach 5. Artificial Neural Network"
      ],
      "metadata": {
        "id": "mNxp6bKu-clM"
      },
      "execution_count": null,
      "outputs": []
    },
    {
      "cell_type": "code",
      "source": [
        "import tensorflow as tf\n",
        "\n",
        "ann = tf.keras.models.Sequential()\n",
        "ann.add(tf.keras.layers.Dense(units = 6, activation = 'relu'))\n",
        "ann.add(tf.keras.layers.Dense(units = 6, activation = 'relu'))\n",
        "ann.add(tf.keras.layers.Dense(units = 1, activation = 'sigmoid'))\n",
        "ann.compile(optimizer = 'adam', loss = 'binary_crossentropy', metrics = ['accuracy'])"
      ],
      "metadata": {
        "id": "jPIwjs3s-hH2"
      },
      "execution_count": null,
      "outputs": []
    },
    {
      "cell_type": "code",
      "source": [
        "\n",
        "\n",
        "X_ann_train = X_train.toarray()\n",
        "\n",
        "ann.fit(X_ann_train, y_train, batch_size = 32, epochs = 100)"
      ],
      "metadata": {
        "colab": {
          "base_uri": "https://localhost:8080/"
        },
        "id": "BlhhrE4j-kAB",
        "outputId": "a455018f-417a-4fdb-a092-c641905ea357"
      },
      "execution_count": null,
      "outputs": [
        {
          "output_type": "stream",
          "name": "stdout",
          "text": [
            "Epoch 1/100\n",
            "4/4 [==============================] - 1s 4ms/step - loss: 0.2394 - accuracy: 0.1565\n",
            "Epoch 2/100\n",
            "4/4 [==============================] - 0s 3ms/step - loss: -0.3296 - accuracy: 0.1217\n",
            "Epoch 3/100\n",
            "4/4 [==============================] - 0s 3ms/step - loss: -0.8239 - accuracy: 0.1217\n",
            "Epoch 4/100\n",
            "4/4 [==============================] - 0s 4ms/step - loss: -1.3180 - accuracy: 0.1217\n",
            "Epoch 5/100\n",
            "4/4 [==============================] - 0s 3ms/step - loss: -1.8932 - accuracy: 0.1217\n",
            "Epoch 6/100\n",
            "4/4 [==============================] - 0s 5ms/step - loss: -2.5063 - accuracy: 0.1217\n",
            "Epoch 7/100\n",
            "4/4 [==============================] - 0s 3ms/step - loss: -3.1765 - accuracy: 0.1217\n",
            "Epoch 8/100\n",
            "4/4 [==============================] - 0s 3ms/step - loss: -3.9230 - accuracy: 0.1217\n",
            "Epoch 9/100\n",
            "4/4 [==============================] - 0s 4ms/step - loss: -4.7614 - accuracy: 0.1130\n",
            "Epoch 10/100\n",
            "4/4 [==============================] - 0s 4ms/step - loss: -5.6405 - accuracy: 0.1130\n",
            "Epoch 11/100\n",
            "4/4 [==============================] - 0s 4ms/step - loss: -6.6067 - accuracy: 0.1130\n",
            "Epoch 12/100\n",
            "4/4 [==============================] - 0s 4ms/step - loss: -7.5692 - accuracy: 0.1130\n",
            "Epoch 13/100\n",
            "4/4 [==============================] - 0s 4ms/step - loss: -8.7142 - accuracy: 0.1130\n",
            "Epoch 14/100\n",
            "4/4 [==============================] - 0s 6ms/step - loss: -9.9132 - accuracy: 0.1130\n",
            "Epoch 15/100\n",
            "4/4 [==============================] - 0s 4ms/step - loss: -11.3429 - accuracy: 0.1130\n",
            "Epoch 16/100\n",
            "4/4 [==============================] - 0s 5ms/step - loss: -12.9711 - accuracy: 0.1130\n",
            "Epoch 17/100\n",
            "4/4 [==============================] - 0s 4ms/step - loss: -14.6497 - accuracy: 0.1130\n",
            "Epoch 18/100\n",
            "4/4 [==============================] - 0s 4ms/step - loss: -16.5814 - accuracy: 0.1130\n",
            "Epoch 19/100\n",
            "4/4 [==============================] - 0s 3ms/step - loss: -18.6477 - accuracy: 0.1130\n",
            "Epoch 20/100\n",
            "4/4 [==============================] - 0s 4ms/step - loss: -20.7486 - accuracy: 0.1130\n",
            "Epoch 21/100\n",
            "4/4 [==============================] - 0s 4ms/step - loss: -23.2994 - accuracy: 0.1130\n",
            "Epoch 22/100\n",
            "4/4 [==============================] - 0s 3ms/step - loss: -26.0894 - accuracy: 0.1130\n",
            "Epoch 23/100\n",
            "4/4 [==============================] - 0s 4ms/step - loss: -29.2122 - accuracy: 0.1130\n",
            "Epoch 24/100\n",
            "4/4 [==============================] - 0s 3ms/step - loss: -32.4640 - accuracy: 0.1130\n",
            "Epoch 25/100\n",
            "4/4 [==============================] - 0s 5ms/step - loss: -36.2888 - accuracy: 0.1130\n",
            "Epoch 26/100\n",
            "4/4 [==============================] - 0s 3ms/step - loss: -40.1637 - accuracy: 0.1130\n",
            "Epoch 27/100\n",
            "4/4 [==============================] - 0s 4ms/step - loss: -44.3046 - accuracy: 0.1130\n",
            "Epoch 28/100\n",
            "4/4 [==============================] - 0s 5ms/step - loss: -48.7877 - accuracy: 0.1130\n",
            "Epoch 29/100\n",
            "4/4 [==============================] - 0s 5ms/step - loss: -53.3837 - accuracy: 0.1130\n",
            "Epoch 30/100\n",
            "4/4 [==============================] - 0s 4ms/step - loss: -58.4533 - accuracy: 0.1130\n",
            "Epoch 31/100\n",
            "4/4 [==============================] - 0s 4ms/step - loss: -63.5485 - accuracy: 0.1043\n",
            "Epoch 32/100\n",
            "4/4 [==============================] - 0s 4ms/step - loss: -69.2678 - accuracy: 0.1043\n",
            "Epoch 33/100\n",
            "4/4 [==============================] - 0s 4ms/step - loss: -75.2345 - accuracy: 0.1043\n",
            "Epoch 34/100\n",
            "4/4 [==============================] - 0s 4ms/step - loss: -81.4145 - accuracy: 0.1043\n",
            "Epoch 35/100\n",
            "4/4 [==============================] - 0s 5ms/step - loss: -88.0743 - accuracy: 0.1043\n",
            "Epoch 36/100\n",
            "4/4 [==============================] - 0s 4ms/step - loss: -94.5445 - accuracy: 0.1043\n",
            "Epoch 37/100\n",
            "4/4 [==============================] - 0s 4ms/step - loss: -101.2200 - accuracy: 0.1043\n",
            "Epoch 38/100\n",
            "4/4 [==============================] - 0s 3ms/step - loss: -108.4901 - accuracy: 0.1043\n",
            "Epoch 39/100\n",
            "4/4 [==============================] - 0s 3ms/step - loss: -116.0168 - accuracy: 0.1043\n",
            "Epoch 40/100\n",
            "4/4 [==============================] - 0s 5ms/step - loss: -124.0392 - accuracy: 0.1043\n",
            "Epoch 41/100\n",
            "4/4 [==============================] - 0s 4ms/step - loss: -132.0941 - accuracy: 0.1043\n",
            "Epoch 42/100\n",
            "4/4 [==============================] - 0s 4ms/step - loss: -140.5340 - accuracy: 0.1043\n",
            "Epoch 43/100\n",
            "4/4 [==============================] - 0s 5ms/step - loss: -148.9433 - accuracy: 0.1043\n",
            "Epoch 44/100\n",
            "4/4 [==============================] - 0s 4ms/step - loss: -158.4072 - accuracy: 0.1043\n",
            "Epoch 45/100\n",
            "4/4 [==============================] - 0s 4ms/step - loss: -167.1833 - accuracy: 0.1043\n",
            "Epoch 46/100\n",
            "4/4 [==============================] - 0s 3ms/step - loss: -177.1948 - accuracy: 0.1043\n",
            "Epoch 47/100\n",
            "4/4 [==============================] - 0s 5ms/step - loss: -187.5349 - accuracy: 0.1043\n",
            "Epoch 48/100\n",
            "4/4 [==============================] - 0s 3ms/step - loss: -197.5900 - accuracy: 0.1043\n",
            "Epoch 49/100\n",
            "4/4 [==============================] - 0s 4ms/step - loss: -208.4028 - accuracy: 0.1043\n",
            "Epoch 50/100\n",
            "4/4 [==============================] - 0s 4ms/step - loss: -219.8296 - accuracy: 0.1043\n",
            "Epoch 51/100\n",
            "4/4 [==============================] - 0s 3ms/step - loss: -230.9843 - accuracy: 0.1043\n",
            "Epoch 52/100\n",
            "4/4 [==============================] - 0s 4ms/step - loss: -242.7697 - accuracy: 0.1043\n",
            "Epoch 53/100\n",
            "4/4 [==============================] - 0s 3ms/step - loss: -254.9333 - accuracy: 0.1043\n",
            "Epoch 54/100\n",
            "4/4 [==============================] - 0s 4ms/step - loss: -267.4706 - accuracy: 0.1043\n",
            "Epoch 55/100\n",
            "4/4 [==============================] - 0s 4ms/step - loss: -280.2355 - accuracy: 0.1043\n",
            "Epoch 56/100\n",
            "4/4 [==============================] - 0s 4ms/step - loss: -293.6715 - accuracy: 0.1130\n",
            "Epoch 57/100\n",
            "4/4 [==============================] - 0s 4ms/step - loss: -307.2760 - accuracy: 0.1130\n",
            "Epoch 58/100\n",
            "4/4 [==============================] - 0s 3ms/step - loss: -321.3690 - accuracy: 0.1130\n",
            "Epoch 59/100\n",
            "4/4 [==============================] - 0s 3ms/step - loss: -335.6473 - accuracy: 0.1130\n",
            "Epoch 60/100\n",
            "4/4 [==============================] - 0s 4ms/step - loss: -350.5437 - accuracy: 0.1130\n",
            "Epoch 61/100\n",
            "4/4 [==============================] - 0s 4ms/step - loss: -365.9426 - accuracy: 0.1130\n",
            "Epoch 62/100\n",
            "4/4 [==============================] - 0s 4ms/step - loss: -382.1016 - accuracy: 0.1217\n",
            "Epoch 63/100\n",
            "4/4 [==============================] - 0s 4ms/step - loss: -397.6133 - accuracy: 0.1217\n",
            "Epoch 64/100\n",
            "4/4 [==============================] - 0s 4ms/step - loss: -414.8621 - accuracy: 0.1217\n",
            "Epoch 65/100\n",
            "4/4 [==============================] - 0s 4ms/step - loss: -431.4663 - accuracy: 0.1217\n",
            "Epoch 66/100\n",
            "4/4 [==============================] - 0s 4ms/step - loss: -449.4323 - accuracy: 0.1217\n",
            "Epoch 67/100\n",
            "4/4 [==============================] - 0s 4ms/step - loss: -467.3782 - accuracy: 0.1217\n",
            "Epoch 68/100\n",
            "4/4 [==============================] - 0s 4ms/step - loss: -485.4772 - accuracy: 0.1217\n",
            "Epoch 69/100\n",
            "4/4 [==============================] - 0s 4ms/step - loss: -503.8599 - accuracy: 0.1217\n",
            "Epoch 70/100\n",
            "4/4 [==============================] - 0s 4ms/step - loss: -523.9711 - accuracy: 0.1217\n",
            "Epoch 71/100\n",
            "4/4 [==============================] - 0s 4ms/step - loss: -543.4822 - accuracy: 0.1217\n",
            "Epoch 72/100\n",
            "4/4 [==============================] - 0s 4ms/step - loss: -564.0485 - accuracy: 0.1304\n",
            "Epoch 73/100\n",
            "4/4 [==============================] - 0s 4ms/step - loss: -584.6216 - accuracy: 0.1304\n",
            "Epoch 74/100\n",
            "4/4 [==============================] - 0s 5ms/step - loss: -606.3216 - accuracy: 0.1217\n",
            "Epoch 75/100\n",
            "4/4 [==============================] - 0s 4ms/step - loss: -628.5054 - accuracy: 0.1217\n",
            "Epoch 76/100\n",
            "4/4 [==============================] - 0s 4ms/step - loss: -650.5539 - accuracy: 0.1217\n",
            "Epoch 77/100\n",
            "4/4 [==============================] - 0s 3ms/step - loss: -674.8858 - accuracy: 0.1217\n",
            "Epoch 78/100\n",
            "4/4 [==============================] - 0s 4ms/step - loss: -697.8317 - accuracy: 0.1217\n",
            "Epoch 79/100\n",
            "4/4 [==============================] - 0s 4ms/step - loss: -721.7915 - accuracy: 0.1217\n",
            "Epoch 80/100\n",
            "4/4 [==============================] - 0s 4ms/step - loss: -746.5938 - accuracy: 0.1217\n",
            "Epoch 81/100\n",
            "4/4 [==============================] - 0s 4ms/step - loss: -771.7336 - accuracy: 0.1217\n",
            "Epoch 82/100\n",
            "4/4 [==============================] - 0s 4ms/step - loss: -797.8425 - accuracy: 0.1217\n",
            "Epoch 83/100\n",
            "4/4 [==============================] - 0s 4ms/step - loss: -824.6071 - accuracy: 0.1304\n",
            "Epoch 84/100\n",
            "4/4 [==============================] - 0s 3ms/step - loss: -850.9199 - accuracy: 0.1217\n",
            "Epoch 85/100\n",
            "4/4 [==============================] - 0s 3ms/step - loss: -879.0194 - accuracy: 0.1217\n",
            "Epoch 86/100\n",
            "4/4 [==============================] - 0s 3ms/step - loss: -906.1382 - accuracy: 0.1217\n",
            "Epoch 87/100\n",
            "4/4 [==============================] - 0s 4ms/step - loss: -934.9794 - accuracy: 0.1304\n",
            "Epoch 88/100\n",
            "4/4 [==============================] - 0s 3ms/step - loss: -965.1783 - accuracy: 0.1391\n",
            "Epoch 89/100\n",
            "4/4 [==============================] - 0s 4ms/step - loss: -994.2844 - accuracy: 0.1478\n",
            "Epoch 90/100\n",
            "4/4 [==============================] - 0s 4ms/step - loss: -1024.0790 - accuracy: 0.1304\n",
            "Epoch 91/100\n",
            "4/4 [==============================] - 0s 4ms/step - loss: -1056.2018 - accuracy: 0.1304\n",
            "Epoch 92/100\n",
            "4/4 [==============================] - 0s 5ms/step - loss: -1088.0303 - accuracy: 0.1304\n",
            "Epoch 93/100\n",
            "4/4 [==============================] - 0s 4ms/step - loss: -1120.5479 - accuracy: 0.1217\n",
            "Epoch 94/100\n",
            "4/4 [==============================] - 0s 3ms/step - loss: -1153.9587 - accuracy: 0.1391\n",
            "Epoch 95/100\n",
            "4/4 [==============================] - 0s 4ms/step - loss: -1186.7802 - accuracy: 0.1391\n",
            "Epoch 96/100\n",
            "4/4 [==============================] - 0s 4ms/step - loss: -1221.8589 - accuracy: 0.1304\n",
            "Epoch 97/100\n",
            "4/4 [==============================] - 0s 4ms/step - loss: -1258.0353 - accuracy: 0.1217\n",
            "Epoch 98/100\n",
            "4/4 [==============================] - 0s 3ms/step - loss: -1290.5278 - accuracy: 0.1304\n",
            "Epoch 99/100\n",
            "4/4 [==============================] - 0s 4ms/step - loss: -1330.0240 - accuracy: 0.1304\n",
            "Epoch 100/100\n",
            "4/4 [==============================] - 0s 4ms/step - loss: -1363.8710 - accuracy: 0.1478\n"
          ]
        },
        {
          "output_type": "execute_result",
          "data": {
            "text/plain": [
              "<keras.callbacks.History at 0x7f5ac4d98dd0>"
            ]
          },
          "metadata": {},
          "execution_count": 70
        }
      ]
    },
    {
      "cell_type": "code",
      "source": [
        "y_ann_pred = ann.predict(X_test)\n",
        "\n",
        "mse_ann = mean_squared_error(y_test, y_ann_pred)\n",
        "accuracy_ann = accuracy_score(y_test, y_ann_pred)\n",
        "\n"
      ],
      "metadata": {
        "id": "wCNlGfBs-tK4"
      },
      "execution_count": null,
      "outputs": []
    },
    {
      "cell_type": "code",
      "source": [
        "#Final comparison of the MSE of the models"
      ],
      "metadata": {
        "id": "t8rfYtUB-2sj"
      },
      "execution_count": null,
      "outputs": []
    },
    {
      "cell_type": "code",
      "source": [
        "import matplotlib.pyplot as plt\n",
        "\n",
        "x = [\"regression\",\"k-NN Regressor\", \"k-NN\", \"random forest\", \"ANN\"]\n",
        "y = [mse_regression, mse_knn_reg, mse_knn, mse_rf, mse_ann]\n",
        "\n",
        "plt.bar(x, y)\n",
        "plt.ylabel(\"Mean squared error\")\n",
        "for i in range(len(x)):\n",
        "        plt.text(i, y[i] + 0.07, round(y[i],2))\n",
        "\n",
        "plt.show()"
      ],
      "metadata": {
        "colab": {
          "base_uri": "https://localhost:8080/",
          "height": 266
        },
        "id": "R38X5FZP-6hI",
        "outputId": "8b08305d-0bc2-495d-8d93-557278b5b82d"
      },
      "execution_count": null,
      "outputs": [
        {
          "output_type": "display_data",
          "data": {
            "text/plain": [
              "<Figure size 432x288 with 1 Axes>"
            ],
            "image/png": "[encoded data removed]"
          },
          "metadata": {
            "needs_background": "light"
          }
        }
      ]
    },
    {
      "cell_type": "code",
      "source": [],
      "metadata": {
        "id": "cffLZ1-jBNdb"
      },
      "execution_count": null,
      "outputs": []
    }
  ]
}